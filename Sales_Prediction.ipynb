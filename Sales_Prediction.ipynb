{
 "cells": [
  {
   "cell_type": "code",
   "execution_count": 28,
   "metadata": {},
   "outputs": [
    {
     "name": "stdout",
     "output_type": "stream",
     "text": [
      "     customer name                                    customer e-mail  \\\n",
      "0    Martina Avila  cubilia.Curae.Phasellus@quisaccumsanconvallis.edu   \n",
      "1    Harlan Barnes                                eu.dolor@diam.co.uk   \n",
      "2  Naomi Rodriquez  vulputate.mauris.sagittis@ametconsectetueradip...   \n",
      "3  Jade Cunningham                            malesuada@dignissim.com   \n",
      "4     Cedric Leach     felis.ullamcorper.viverra@egetmollislectus.net   \n",
      "\n",
      "        country  gender        age  annual Salary  credit card debt  \\\n",
      "0      Bulgaria       0  41.851720    62812.09301      11609.380910   \n",
      "1        Belize       0  40.870623    66646.89292       9572.957136   \n",
      "2       Algeria       1  43.152897    53798.55112      11160.355060   \n",
      "3  Cook Islands       1  58.271369    79370.03798      14426.164850   \n",
      "4        Brazil       1  57.313749    59729.15130       5358.712177   \n",
      "\n",
      "     net worth  car purchase amount  \n",
      "0  238961.2505          35321.45877  \n",
      "1  530973.9078          45115.52566  \n",
      "2  638467.1773          42925.70921  \n",
      "3  548599.0524          67422.36313  \n",
      "4  560304.0671          55915.46248  \n"
     ]
    }
   ],
   "source": [
    "import pandas as pd\n",
    "from sklearn.preprocessing import LabelEncoder, StandardScaler\n",
    "from sklearn.model_selection import train_test_split\n",
    "from sklearn.linear_model import LinearRegression\n",
    "from sklearn.metrics import mean_absolute_error, mean_squared_error, r2_score\n",
    "\n",
    "\n",
    "# Load the dataset\n",
    "df = pd.read_csv(r'C:\\Users\\Dell\\My Daily Work\\car_purchasing.csv', encoding='ISO-8859-1')\n",
    "\n",
    "# Display the first few rows of the dataframe\n",
    "print(df.head())"
   ]
  },
  {
   "cell_type": "code",
   "execution_count": 20,
   "metadata": {},
   "outputs": [
    {
     "name": "stdout",
     "output_type": "stream",
     "text": [
      "Information about dataset:\n",
      "<class 'pandas.core.frame.DataFrame'>\n",
      "RangeIndex: 500 entries, 0 to 499\n",
      "Data columns (total 9 columns):\n",
      " #   Column               Non-Null Count  Dtype  \n",
      "---  ------               --------------  -----  \n",
      " 0   customer name        500 non-null    object \n",
      " 1   customer e-mail      500 non-null    object \n",
      " 2   country              500 non-null    object \n",
      " 3   gender               500 non-null    int64  \n",
      " 4   age                  500 non-null    float64\n",
      " 5   annual Salary        500 non-null    float64\n",
      " 6   credit card debt     500 non-null    float64\n",
      " 7   net worth            500 non-null    float64\n",
      " 8   car purchase amount  500 non-null    float64\n",
      "dtypes: float64(5), int64(1), object(3)\n",
      "memory usage: 35.3+ KB\n",
      "None\n"
     ]
    }
   ],
   "source": [
    "# Display information about the dataset\n",
    "print(\"Information about dataset:\")\n",
    "print(df.info())"
   ]
  },
  {
   "cell_type": "code",
   "execution_count": 15,
   "metadata": {},
   "outputs": [
    {
     "name": "stdout",
     "output_type": "stream",
     "text": [
      "\n",
      "Summary statistics:\n",
      "           gender         age  annual Salary  credit card debt  \\\n",
      "count  500.000000  500.000000     500.000000        500.000000   \n",
      "mean     0.506000   46.241674   62127.239608       9607.645049   \n",
      "std      0.500465    7.978862   11703.378228       3489.187973   \n",
      "min      0.000000   20.000000   20000.000000        100.000000   \n",
      "25%      0.000000   40.949969   54391.977195       7397.515792   \n",
      "50%      1.000000   46.049901   62915.497035       9655.035568   \n",
      "75%      1.000000   51.612263   70117.862005      11798.867487   \n",
      "max      1.000000   70.000000  100000.000000      20000.000000   \n",
      "\n",
      "            net worth  car purchase amount  \n",
      "count      500.000000           500.000000  \n",
      "mean    431475.713625         44209.799218  \n",
      "std     173536.756340         10773.178744  \n",
      "min      20000.000000          9000.000000  \n",
      "25%     299824.195900         37629.896040  \n",
      "50%     426750.120650         43997.783390  \n",
      "75%     557324.478725         51254.709517  \n",
      "max    1000000.000000         80000.000000  \n"
     ]
    }
   ],
   "source": [
    "print(\"\\nSummary statistics:\")\n",
    "print(df.describe())"
   ]
  },
  {
   "cell_type": "code",
   "execution_count": 21,
   "metadata": {},
   "outputs": [
    {
     "name": "stdout",
     "output_type": "stream",
     "text": [
      "\n",
      "Column names:\n",
      "Index(['customer name', 'customer e-mail', 'country', 'gender', 'age',\n",
      "       'annual Salary', 'credit card debt', 'net worth',\n",
      "       'car purchase amount'],\n",
      "      dtype='object')\n"
     ]
    }
   ],
   "source": [
    "print(\"\\nColumn names:\")\n",
    "print(df.columns)"
   ]
  },
  {
   "cell_type": "code",
   "execution_count": 13,
   "metadata": {},
   "outputs": [
    {
     "name": "stdout",
     "output_type": "stream",
     "text": [
      "customer name          0\n",
      "customer e-mail        0\n",
      "country                0\n",
      "gender                 0\n",
      "age                    0\n",
      "annual Salary          0\n",
      "credit card debt       0\n",
      "net worth              0\n",
      "car purchase amount    0\n",
      "dtype: int64\n"
     ]
    }
   ],
   "source": [
    "# Check for missing values\n",
    "print(df.isnull().sum())\n",
    "\n",
    "# Convert categorical variables to numeric using one-hot encoding\n",
    "df = pd.get_dummies(df, drop_first=True)"
   ]
  },
  {
   "cell_type": "code",
   "execution_count": 27,
   "metadata": {},
   "outputs": [
    {
     "name": "stdout",
     "output_type": "stream",
     "text": [
      "\n",
      "First few rows after cleaning:\n",
      "   country  gender        age  annual Salary  credit card debt    net worth  \\\n",
      "0       27       0  41.851720    62812.09301      11609.380910  238961.2505   \n",
      "1       17       0  40.870623    66646.89292       9572.957136  530973.9078   \n",
      "2        1       1  43.152897    53798.55112      11160.355060  638467.1773   \n",
      "3       41       1  58.271369    79370.03798      14426.164850  548599.0524   \n",
      "4       26       1  57.313749    59729.15130       5358.712177  560304.0671   \n",
      "\n",
      "   car purchase amount  \n",
      "0          35321.45877  \n",
      "1          45115.52566  \n",
      "2          42925.70921  \n",
      "3          67422.36313  \n",
      "4          55915.46248  \n",
      "\n",
      "First few rows after scaling:\n",
      "   country  gender       age  annual Salary  credit card debt  net worth  \\\n",
      "0       27       0 -0.550749       0.058576          0.574271  -1.110469   \n",
      "1       17       0 -0.673834       0.386570         -0.009951   0.573929   \n",
      "2        1       1 -0.387508      -0.712361          0.445452   1.193976   \n",
      "3       41       1  1.509206       1.474794          1.382369   0.675595   \n",
      "4       26       1  1.389066      -0.205111         -1.218962   0.743113   \n",
      "\n",
      "   car purchase amount  \n",
      "0          35321.45877  \n",
      "1          45115.52566  \n",
      "2          42925.70921  \n",
      "3          67422.36313  \n",
      "4          55915.46248  \n"
     ]
    }
   ],
   "source": [
    "import pandas as pd\n",
    "from sklearn.preprocessing import LabelEncoder, StandardScaler\n",
    "\n",
    "# Encoding categorical variables\n",
    "label_encoder = LabelEncoder()\n",
    "df['gender'] = label_encoder.fit_transform(df['gender'])\n",
    "df['country'] = label_encoder.fit_transform(df['country'])\n",
    "\n",
    "# Display the first few rows after cleaning\n",
    "print(\"\\nFirst few rows after cleaning:\")\n",
    "print(df.head())\n",
    "\n",
    "# Feature scaling\n",
    "scaler = StandardScaler()\n",
    "df[['age', 'annual Salary', 'credit card debt', 'net worth']] = scaler.fit_transform(df[['age', 'annual Salary', 'credit card debt', 'net worth']])\n",
    "\n",
    "# Display the first few rows after scaling\n",
    "print(\"\\nFirst few rows after scaling:\")\n",
    "print(df.head())\n"
   ]
  },
  {
   "cell_type": "code",
   "execution_count": 34,
   "metadata": {},
   "outputs": [
    {
     "name": "stdout",
     "output_type": "stream",
     "text": [
      "Mean Absolute Error: 1.155324239621259\n",
      "Mean Squared Error: 2.1001405254553664\n",
      "R-squared: 0.9999999805494205\n",
      "\n",
      "First few predictions:\n",
      "Actual: 46082.80993, Predicted: 46084.59089832684\n",
      "Actual: 45058.8969, Predicted: 45060.41247459563\n",
      "Actual: 63079.84329, Predicted: 63081.58908699878\n",
      "Actual: 31837.22537, Predicted: 31838.287295524082\n",
      "Actual: 60461.24268, Predicted: 60460.960763338175\n"
     ]
    }
   ],
   "source": [
    "import pandas as pd\n",
    "from sklearn.preprocessing import LabelEncoder, StandardScaler\n",
    "from sklearn.model_selection import train_test_split\n",
    "from sklearn.linear_model import LinearRegression\n",
    "from sklearn.metrics import mean_absolute_error, mean_squared_error, r2_score\n",
    "\n",
    "# Drop columns that are not relevant for prediction\n",
    "df.drop(['customer name', 'customer e-mail'], axis=1, inplace=True)\n",
    "\n",
    "# Split the data into features and target variable\n",
    "X = df.drop('car purchase amount', axis=1)\n",
    "y = df['car purchase amount']\n",
    "\n",
    "# Split the data into training and testing sets\n",
    "X_train, X_test, y_train, y_test = train_test_split(X, y, test_size=0.2, random_state=42)\n",
    "\n",
    "# Build and train the model\n",
    "model = LinearRegression()\n",
    "model.fit(X_train, y_train)\n",
    "\n",
    "# Make predictions\n",
    "y_pred = model.predict(X_test)\n",
    "\n",
    "# Evaluate the model\n",
    "mae = mean_absolute_error(y_test, y_pred)\n",
    "mse = mean_squared_error(y_test, y_pred)\n",
    "r2 = r2_score(y_test, y_pred)\n",
    "\n",
    "print(f\"Mean Absolute Error: {mae}\")\n",
    "print(f\"Mean Squared Error: {mse}\")\n",
    "print(f\"R-squared: {r2}\")\n",
    "\n",
    "# Display the first few predictions\n",
    "print(\"\\nFirst few predictions:\")\n",
    "for actual, predicted in zip(y_test[:5], y_pred[:5]):\n",
    "    print(f\"Actual: {actual}, Predicted: {predicted}\")"
   ]
  }
 ],
 "metadata": {
  "kernelspec": {
   "display_name": "base",
   "language": "python",
   "name": "python3"
  },
  "language_info": {
   "codemirror_mode": {
    "name": "ipython",
    "version": 3
   },
   "file_extension": ".py",
   "mimetype": "text/x-python",
   "name": "python",
   "nbconvert_exporter": "python",
   "pygments_lexer": "ipython3",
   "version": "3.11.7"
  }
 },
 "nbformat": 4,
 "nbformat_minor": 2
}
